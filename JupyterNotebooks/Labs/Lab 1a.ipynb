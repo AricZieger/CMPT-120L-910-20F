{
 "metadata": {
  "language_info": {
   "codemirror_mode": {
    "name": "ipython",
    "version": 3
   },
   "file_extension": ".py",
   "mimetype": "text/x-python",
   "name": "python",
   "nbconvert_exporter": "python",
   "pygments_lexer": "ipython3",
   "version": 3
  },
  "orig_nbformat": 2
 },
 "nbformat": 4,
 "nbformat_minor": 2,
 "cells": [
  {
   "cell_type": "code",
   "execution_count": null,
   "metadata": {},
   "outputs": [],
   "source": [
    "favorite_game = \"Fire Emblem Binding Blade\"\n",
    "My_Age = 20\n",
    "Pie_value = 3.14\n",
    "From_LA = True\n",
    "\n",
    "print(My_Age)\n",
    "print(favorite_game)\n",
    "print(Pie_value)\n",
    "print(From_LA)"
   ]
  },
  {
   "cell_type": "code",
   "execution_count": null,
   "metadata": {},
   "outputs": [],
   "source": [
    "input1 = 2\n",
    "input2 = 7\n",
    "\n",
    "print(input1 + input2)\n",
    "print(input1 - input2)\n",
    "print(input1 % input2)\n",
    "print(input1 * input2)\n",
    "print(input1 % input2)"
   ]
  },
  {
   "cell_type": "code",
   "execution_count": null,
   "metadata": {},
   "outputs": [],
   "source": [
    "first_half = 37\n",
    "second_half = 20\n",
    "print(int(first_half + second_half))"
   ]
  },
  {
   "cell_type": "code",
   "execution_count": null,
   "metadata": {},
   "outputs": [],
   "source": [
    "number_into_string = 37\n",
    "print(str(number_into_string))\n",
    "# Change this variable to a integer and print\n",
    "string_into_number = '10'\n",
    "print(int(string_into_number))\n",
    "# Change this variable to a float and print\n",
    "string_into_float = '299.99'\n",
    "print(float(string_into_float))\n",
    "# Change this variable to a boolean and print\n",
    "number_into_boolean = 37\n",
    "print(bool(number_into_boolean))"
   ]
  },
  {
   "cell_type": "code",
   "execution_count": null,
   "metadata": {},
   "outputs": [],
   "source": [
    "fun_movies = [\"The Hangover\", \"Pirates of the Caribean\"]"
   ]
  }
 ]
}