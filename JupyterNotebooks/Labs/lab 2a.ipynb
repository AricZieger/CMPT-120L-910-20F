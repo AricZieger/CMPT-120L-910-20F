{
 "metadata": {
  "language_info": {
   "codemirror_mode": {
    "name": "ipython",
    "version": 3
   },
   "file_extension": ".py",
   "mimetype": "text/x-python",
   "name": "python",
   "nbconvert_exporter": "python",
   "pygments_lexer": "ipython3",
   "version": "3.8.6-final"
  },
  "orig_nbformat": 2,
  "kernelspec": {
   "name": "python3",
   "display_name": "Python 3.8.6 64-bit",
   "metadata": {
    "interpreter": {
     "hash": "3bb6cf5cab5c1443733c62057d94fabf476d3e6882506f570122fcf76a2dfe4c"
    }
   }
  }
 },
 "nbformat": 4,
 "nbformat_minor": 2,
 "cells": [
  {
   "cell_type": "code",
   "execution_count": 18,
   "metadata": {},
   "outputs": [
    {
     "output_type": "stream",
     "name": "stdout",
     "text": [
      "lab 2\n"
     ]
    }
   ],
   "source": [
    "if True:\n",
    "    print(\"lab 2\")"
   ]
  },
  {
   "cell_type": "code",
   "execution_count": 19,
   "metadata": {},
   "outputs": [
    {
     "output_type": "stream",
     "name": "stdout",
     "text": [
      "right\n"
     ]
    }
   ],
   "source": [
    "if False:\n",
    "    print(\"Wrong\")\n",
    "else:\n",
    "    print(\"right\")"
   ]
  },
  {
   "cell_type": "code",
   "execution_count": 20,
   "metadata": {},
   "outputs": [
    {
     "output_type": "stream",
     "name": "stdout",
     "text": [
      "true\n"
     ]
    }
   ],
   "source": [
    "if False:\n",
    "    print(\"false\")\n",
    "elif True:\n",
    "    print(\"true\")\n",
    "else:\n",
    "    print(\"Something else\")"
   ]
  },
  {
   "cell_type": "code",
   "execution_count": 21,
   "metadata": {},
   "outputs": [
    {
     "output_type": "stream",
     "name": "stdout",
     "text": [
      "0\n1\n2\n3\n4\n5\n6\n7\n8\n9\n"
     ]
    }
   ],
   "source": [
    "for number in range(10):\n",
    "    print(number)"
   ]
  },
  {
   "cell_type": "code",
   "execution_count": 22,
   "metadata": {},
   "outputs": [
    {
     "output_type": "stream",
     "name": "stdout",
     "text": [
      "Roy\nIke\nMarth\nMiciah\nCorrin\nRobin\nByleth\n7\n"
     ]
    }
   ],
   "source": [
    "arr = ['Roy', 'Ike', 'Marth', 'Miciah', 'Corrin', 'Robin', 'Byleth']\n",
    "\n",
    "for FEH in arr:\n",
    "    print(FEH)\n",
    "\n",
    "print(len(arr))"
   ]
  },
  {
   "cell_type": "code",
   "execution_count": 23,
   "metadata": {},
   "outputs": [
    {
     "output_type": "stream",
     "name": "stdout",
     "text": [
      "0\n1\n2\n3\n4\n5\n"
     ]
    }
   ],
   "source": [
    "index = 0\n",
    "\n",
    "while index < 6:\n",
    "    print(index)\n",
    "    index += 1\n"
   ]
  },
  {
   "cell_type": "code",
   "execution_count": 24,
   "metadata": {},
   "outputs": [
    {
     "output_type": "stream",
     "name": "stdout",
     "text": [
      "54\n"
     ]
    }
   ],
   "source": [
    "def addition(input1, input2):\n",
    "   total = input1 + input2\n",
    "   print(total)\n",
    "\n",
    "addition(38, 16)"
   ]
  },
  {
   "cell_type": "code",
   "execution_count": 25,
   "metadata": {},
   "outputs": [
    {
     "output_type": "stream",
     "name": "stdout",
     "text": [
      "Number is even\n"
     ]
    }
   ],
   "source": [
    "def odd_or_even(number):\n",
    "    if number % 4 == 0:\n",
    "        print(\"Number is even\")\n",
    "    else:\n",
    "        print(\"Number is odd\")\n",
    "\n",
    "odd_or_even(0)\n",
    "        "
   ]
  },
  {
   "cell_type": "code",
   "execution_count": 17,
   "metadata": {},
   "outputs": [
    {
     "output_type": "error",
     "ename": "TypeError",
     "evalue": "info() missing 1 required positional argument: 'self'",
     "traceback": [
      "\u001b[1;31m---------------------------------------------------------------------------\u001b[0m",
      "\u001b[1;31mTypeError\u001b[0m                                 Traceback (most recent call last)",
      "\u001b[1;32m<ipython-input-17-5644d9212d60>\u001b[0m in \u001b[0;36m<module>\u001b[1;34m\u001b[0m\n\u001b[0;32m     13\u001b[0m \u001b[1;33m\u001b[0m\u001b[0m\n\u001b[0;32m     14\u001b[0m \u001b[0mPs4\u001b[0m \u001b[1;33m=\u001b[0m \u001b[0mConsole\u001b[0m\u001b[1;33m(\u001b[0m\u001b[1;34m\"Playstation\"\u001b[0m\u001b[1;33m,\u001b[0m \u001b[1;34m\"2019\"\u001b[0m\u001b[1;33m,\u001b[0m \u001b[1;34m\"12x9in\"\u001b[0m\u001b[1;33m,\u001b[0m \u001b[1;34m\"Pro\"\u001b[0m\u001b[1;33m)\u001b[0m\u001b[1;33m\u001b[0m\u001b[1;33m\u001b[0m\u001b[0m\n\u001b[1;32m---> 15\u001b[1;33m \u001b[0mConsole\u001b[0m\u001b[1;33m.\u001b[0m\u001b[0minfo\u001b[0m\u001b[1;33m(\u001b[0m\u001b[1;33m)\u001b[0m\u001b[1;33m\u001b[0m\u001b[1;33m\u001b[0m\u001b[0m\n\u001b[0m",
      "\u001b[1;31mTypeError\u001b[0m: info() missing 1 required positional argument: 'self'"
     ]
    }
   ],
   "source": [
    "class Console(object):\n",
    "    def __init__(self, name, year, dimensions, model):\n",
    "        self.name = name\n",
    "        self.year = year\n",
    "        self.dimensions = dimensions\n",
    "        self.model = model\n",
    "\n",
    "    def info(self):\n",
    "        print(\"Name:\", self.name)\n",
    "        print(\"Year:\", str(self.year) + \" Year\")\n",
    "        print(\"Dimensions:\", str(self.dimensions) + \" Inches\")\n",
    "        print(\"Model\", self.model)\n",
    "\n",
    "Ps4 = Console(\"Playstation\", \"2019\", \"12x9in\", \"Pro\")\n",
    "Console.info()"
   ]
  },
  {
   "cell_type": "code",
   "execution_count": null,
   "metadata": {},
   "outputs": [],
   "source": []
  }
 ]
}